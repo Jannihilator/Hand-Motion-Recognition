{
  "cells": [
    {
      "cell_type": "code",
      "execution_count": 18,
      "metadata": {
        "id": "igMyGnjE9hEp"
      },
      "outputs": [],
      "source": [
        "import csv\n",
        "\n",
        "import numpy as np\n",
        "import tensorflow as tf\n",
        "from sklearn.model_selection import train_test_split\n",
        "\n",
        "RANDOM_SEED = 42"
      ]
    },
    {
      "cell_type": "markdown",
      "metadata": {
        "id": "t2HDvhIu9hEr"
      },
      "source": [
        "# Specify each path"
      ]
    },
    {
      "cell_type": "code",
      "execution_count": 19,
      "metadata": {
        "id": "9NvZP2Zn9hEy"
      },
      "outputs": [],
      "source": [
        "dataset = 'model/keypoint_classifier/mouse2.csv'\n",
        "model_save_path = 'model/keypoint_classifier/demo2_classifier.hdf5'\n",
        "tflite_save_path = 'model/keypoint_classifier/demo2_classifier.tflite'"
      ]
    },
    {
      "cell_type": "markdown",
      "metadata": {
        "id": "s5oMH7x19hEz"
      },
      "source": [
        "# Set number of classes"
      ]
    },
    {
      "cell_type": "code",
      "execution_count": 20,
      "metadata": {
        "id": "du4kodXL9hEz"
      },
      "outputs": [],
      "source": [
        "NUM_CLASSES = 2"
      ]
    },
    {
      "cell_type": "markdown",
      "metadata": {
        "id": "XjnL0uso9hEz"
      },
      "source": [
        "# Dataset reading"
      ]
    },
    {
      "cell_type": "code",
      "execution_count": 21,
      "metadata": {
        "id": "QT5ZqtEz9hE0"
      },
      "outputs": [],
      "source": [
        "X_dataset = np.loadtxt(dataset, delimiter=',', dtype='float32', usecols=list(range(1, (21 * 2) + 1)))"
      ]
    },
    {
      "cell_type": "code",
      "execution_count": 22,
      "metadata": {
        "id": "QmoKFsp49hE0"
      },
      "outputs": [],
      "source": [
        "y_dataset = np.loadtxt(dataset, delimiter=',', dtype='int32', usecols=(0))"
      ]
    },
    {
      "cell_type": "code",
      "execution_count": 23,
      "metadata": {
        "id": "xQU7JTZ_9hE0"
      },
      "outputs": [],
      "source": [
        "X_train, X_test, y_train, y_test = train_test_split(X_dataset, y_dataset, train_size=0.75, random_state=RANDOM_SEED)"
      ]
    },
    {
      "cell_type": "markdown",
      "metadata": {
        "id": "mxK_lETT9hE0"
      },
      "source": [
        "# Model building"
      ]
    },
    {
      "cell_type": "code",
      "execution_count": 24,
      "metadata": {
        "id": "vHBmUf1t9hE1"
      },
      "outputs": [],
      "source": [
        "model = tf.keras.models.Sequential([\n",
        "    tf.keras.layers.Input((21 * 2, )),\n",
        "    tf.keras.layers.Dropout(0.2),\n",
        "    tf.keras.layers.Dense(20, activation='relu'),\n",
        "    tf.keras.layers.Dropout(0.4),\n",
        "    tf.keras.layers.Dense(10, activation='relu'),\n",
        "    tf.keras.layers.Dense(NUM_CLASSES, activation='softmax')\n",
        "])"
      ]
    },
    {
      "cell_type": "code",
      "execution_count": 25,
      "metadata": {
        "colab": {
          "base_uri": "https://localhost:8080/"
        },
        "id": "ypqky9tc9hE1",
        "outputId": "5db082bb-30e3-4110-bf63-a1ee777ecd46"
      },
      "outputs": [
        {
          "name": "stdout",
          "output_type": "stream",
          "text": [
            "Model: \"sequential_1\"\n",
            "_________________________________________________________________\n",
            " Layer (type)                Output Shape              Param #   \n",
            "=================================================================\n",
            " dropout_2 (Dropout)         (None, 42)                0         \n",
            "                                                                 \n",
            " dense_3 (Dense)             (None, 20)                860       \n",
            "                                                                 \n",
            " dropout_3 (Dropout)         (None, 20)                0         \n",
            "                                                                 \n",
            " dense_4 (Dense)             (None, 10)                210       \n",
            "                                                                 \n",
            " dense_5 (Dense)             (None, 2)                 22        \n",
            "                                                                 \n",
            "=================================================================\n",
            "Total params: 1,092\n",
            "Trainable params: 1,092\n",
            "Non-trainable params: 0\n",
            "_________________________________________________________________\n"
          ]
        }
      ],
      "source": [
        "model.summary()  # tf.keras.utils.plot_model(model, show_shapes=True)"
      ]
    },
    {
      "cell_type": "code",
      "execution_count": 26,
      "metadata": {
        "id": "MbMjOflQ9hE1"
      },
      "outputs": [],
      "source": [
        "# Model checkpoint callback\n",
        "cp_callback = tf.keras.callbacks.ModelCheckpoint(\n",
        "    model_save_path, verbose=1, save_weights_only=False)\n",
        "# Callback for early stopping\n",
        "es_callback = tf.keras.callbacks.EarlyStopping(patience=20, verbose=1)"
      ]
    },
    {
      "cell_type": "code",
      "execution_count": 27,
      "metadata": {
        "id": "c3Dac0M_9hE2"
      },
      "outputs": [],
      "source": [
        "# Model compilation\n",
        "model.compile(\n",
        "    optimizer='adam',\n",
        "    loss='sparse_categorical_crossentropy',\n",
        "    metrics=['accuracy']\n",
        ")"
      ]
    },
    {
      "cell_type": "markdown",
      "metadata": {
        "id": "7XI0j1Iu9hE2"
      },
      "source": [
        "# Model training"
      ]
    },
    {
      "cell_type": "code",
      "execution_count": 28,
      "metadata": {
        "colab": {
          "base_uri": "https://localhost:8080/"
        },
        "id": "WirBl-JE9hE3",
        "outputId": "71b30ca2-8294-4d9d-8aa2-800d90d399de",
        "scrolled": true
      },
      "outputs": [
        {
          "name": "stdout",
          "output_type": "stream",
          "text": [
            "Epoch 1/1000\n",
            "1/2 [==============>...............] - ETA: 0s - loss: 0.7931 - accuracy: 0.4375\n",
            "Epoch 00001: saving model to model/keypoint_classifier\\demo2_classifier.hdf5\n",
            "2/2 [==============================] - 1s 463ms/step - loss: 0.7540 - accuracy: 0.4870 - val_loss: 0.6831 - val_accuracy: 0.5231\n",
            "Epoch 2/1000\n",
            "1/2 [==============>...............] - ETA: 0s - loss: 0.7338 - accuracy: 0.4766\n",
            "Epoch 00002: saving model to model/keypoint_classifier\\demo2_classifier.hdf5\n",
            "2/2 [==============================] - 0s 131ms/step - loss: 0.7275 - accuracy: 0.4819 - val_loss: 0.6754 - val_accuracy: 0.5231\n",
            "Epoch 3/1000\n",
            "1/2 [==============>...............] - ETA: 0s - loss: 0.7589 - accuracy: 0.4766\n",
            "Epoch 00003: saving model to model/keypoint_classifier\\demo2_classifier.hdf5\n",
            "2/2 [==============================] - 0s 112ms/step - loss: 0.7449 - accuracy: 0.4819 - val_loss: 0.6678 - val_accuracy: 0.5231\n",
            "Epoch 4/1000\n",
            "1/2 [==============>...............] - ETA: 0s - loss: 0.7387 - accuracy: 0.4453\n",
            "Epoch 00004: saving model to model/keypoint_classifier\\demo2_classifier.hdf5\n",
            "2/2 [==============================] - 0s 98ms/step - loss: 0.7205 - accuracy: 0.4767 - val_loss: 0.6616 - val_accuracy: 0.5231\n",
            "Epoch 5/1000\n",
            "1/2 [==============>...............] - ETA: 0s - loss: 0.7371 - accuracy: 0.4531\n",
            "Epoch 00005: saving model to model/keypoint_classifier\\demo2_classifier.hdf5\n",
            "2/2 [==============================] - 0s 103ms/step - loss: 0.7224 - accuracy: 0.4767 - val_loss: 0.6573 - val_accuracy: 0.5846\n",
            "Epoch 6/1000\n",
            "1/2 [==============>...............] - ETA: 0s - loss: 0.6970 - accuracy: 0.5312\n",
            "Epoch 00006: saving model to model/keypoint_classifier\\demo2_classifier.hdf5\n",
            "2/2 [==============================] - 0s 97ms/step - loss: 0.7123 - accuracy: 0.5078 - val_loss: 0.6551 - val_accuracy: 0.8308\n",
            "Epoch 7/1000\n",
            "1/2 [==============>...............] - ETA: 0s - loss: 0.6830 - accuracy: 0.5547\n",
            "Epoch 00007: saving model to model/keypoint_classifier\\demo2_classifier.hdf5\n",
            "2/2 [==============================] - 0s 83ms/step - loss: 0.6944 - accuracy: 0.5130 - val_loss: 0.6559 - val_accuracy: 0.9231\n",
            "Epoch 8/1000\n",
            "1/2 [==============>...............] - ETA: 0s - loss: 0.6988 - accuracy: 0.5234\n",
            "Epoch 00008: saving model to model/keypoint_classifier\\demo2_classifier.hdf5\n",
            "2/2 [==============================] - 0s 87ms/step - loss: 0.7037 - accuracy: 0.5130 - val_loss: 0.6576 - val_accuracy: 0.9538\n",
            "Epoch 9/1000\n",
            "1/2 [==============>...............] - ETA: 0s - loss: 0.7172 - accuracy: 0.4688\n",
            "Epoch 00009: saving model to model/keypoint_classifier\\demo2_classifier.hdf5\n",
            "2/2 [==============================] - 0s 126ms/step - loss: 0.7047 - accuracy: 0.4922 - val_loss: 0.6594 - val_accuracy: 0.9231\n",
            "Epoch 10/1000\n",
            "1/2 [==============>...............] - ETA: 0s - loss: 0.6868 - accuracy: 0.5312\n",
            "Epoch 00010: saving model to model/keypoint_classifier\\demo2_classifier.hdf5\n",
            "2/2 [==============================] - 0s 97ms/step - loss: 0.6886 - accuracy: 0.5389 - val_loss: 0.6607 - val_accuracy: 0.8923\n",
            "Epoch 11/1000\n",
            "1/2 [==============>...............] - ETA: 0s - loss: 0.6987 - accuracy: 0.4844\n",
            "Epoch 00011: saving model to model/keypoint_classifier\\demo2_classifier.hdf5\n",
            "2/2 [==============================] - 0s 111ms/step - loss: 0.7003 - accuracy: 0.4974 - val_loss: 0.6624 - val_accuracy: 0.7231\n",
            "Epoch 12/1000\n",
            "1/2 [==============>...............] - ETA: 0s - loss: 0.6999 - accuracy: 0.5000\n",
            "Epoch 00012: saving model to model/keypoint_classifier\\demo2_classifier.hdf5\n",
            "2/2 [==============================] - 0s 91ms/step - loss: 0.6956 - accuracy: 0.5181 - val_loss: 0.6641 - val_accuracy: 0.6615\n",
            "Epoch 13/1000\n",
            "1/2 [==============>...............] - ETA: 0s - loss: 0.6863 - accuracy: 0.5312\n",
            "Epoch 00013: saving model to model/keypoint_classifier\\demo2_classifier.hdf5\n",
            "2/2 [==============================] - 0s 93ms/step - loss: 0.6933 - accuracy: 0.5389 - val_loss: 0.6659 - val_accuracy: 0.6154\n",
            "Epoch 14/1000\n",
            "1/2 [==============>...............] - ETA: 0s - loss: 0.6651 - accuracy: 0.5781\n",
            "Epoch 00014: saving model to model/keypoint_classifier\\demo2_classifier.hdf5\n",
            "2/2 [==============================] - 0s 111ms/step - loss: 0.6809 - accuracy: 0.5492 - val_loss: 0.6676 - val_accuracy: 0.6154\n",
            "Epoch 15/1000\n",
            "1/2 [==============>...............] - ETA: 0s - loss: 0.6940 - accuracy: 0.4922\n",
            "Epoch 00015: saving model to model/keypoint_classifier\\demo2_classifier.hdf5\n",
            "2/2 [==============================] - 0s 150ms/step - loss: 0.6940 - accuracy: 0.5078 - val_loss: 0.6693 - val_accuracy: 0.5846\n",
            "Epoch 16/1000\n",
            "1/2 [==============>...............] - ETA: 0s - loss: 0.6888 - accuracy: 0.5234\n",
            "Epoch 00016: saving model to model/keypoint_classifier\\demo2_classifier.hdf5\n",
            "2/2 [==============================] - 0s 117ms/step - loss: 0.6899 - accuracy: 0.5233 - val_loss: 0.6705 - val_accuracy: 0.5846\n",
            "Epoch 17/1000\n",
            "1/2 [==============>...............] - ETA: 0s - loss: 0.6967 - accuracy: 0.4297\n",
            "Epoch 00017: saving model to model/keypoint_classifier\\demo2_classifier.hdf5\n",
            "2/2 [==============================] - 0s 90ms/step - loss: 0.6859 - accuracy: 0.5026 - val_loss: 0.6715 - val_accuracy: 0.5846\n",
            "Epoch 18/1000\n",
            "1/2 [==============>...............] - ETA: 0s - loss: 0.6724 - accuracy: 0.5781\n",
            "Epoch 00018: saving model to model/keypoint_classifier\\demo2_classifier.hdf5\n",
            "2/2 [==============================] - 0s 84ms/step - loss: 0.6795 - accuracy: 0.5596 - val_loss: 0.6726 - val_accuracy: 0.5846\n",
            "Epoch 19/1000\n",
            "1/2 [==============>...............] - ETA: 0s - loss: 0.6802 - accuracy: 0.5625\n",
            "Epoch 00019: saving model to model/keypoint_classifier\\demo2_classifier.hdf5\n",
            "2/2 [==============================] - 0s 99ms/step - loss: 0.6794 - accuracy: 0.5492 - val_loss: 0.6733 - val_accuracy: 0.5692\n",
            "Epoch 20/1000\n",
            "1/2 [==============>...............] - ETA: 0s - loss: 0.6846 - accuracy: 0.5078\n",
            "Epoch 00020: saving model to model/keypoint_classifier\\demo2_classifier.hdf5\n",
            "2/2 [==============================] - 0s 106ms/step - loss: 0.6753 - accuracy: 0.5648 - val_loss: 0.6737 - val_accuracy: 0.5692\n",
            "Epoch 21/1000\n",
            "1/2 [==============>...............] - ETA: 0s - loss: 0.6878 - accuracy: 0.5391\n",
            "Epoch 00021: saving model to model/keypoint_classifier\\demo2_classifier.hdf5\n",
            "2/2 [==============================] - 0s 88ms/step - loss: 0.6843 - accuracy: 0.5751 - val_loss: 0.6740 - val_accuracy: 0.5692\n",
            "Epoch 22/1000\n",
            "1/2 [==============>...............] - ETA: 0s - loss: 0.6931 - accuracy: 0.4766\n",
            "Epoch 00022: saving model to model/keypoint_classifier\\demo2_classifier.hdf5\n",
            "2/2 [==============================] - 0s 92ms/step - loss: 0.6928 - accuracy: 0.5026 - val_loss: 0.6743 - val_accuracy: 0.5692\n",
            "Epoch 23/1000\n",
            "1/2 [==============>...............] - ETA: 0s - loss: 0.6875 - accuracy: 0.5469\n",
            "Epoch 00023: saving model to model/keypoint_classifier\\demo2_classifier.hdf5\n",
            "2/2 [==============================] - 0s 112ms/step - loss: 0.6830 - accuracy: 0.5803 - val_loss: 0.6745 - val_accuracy: 0.5692\n",
            "Epoch 24/1000\n",
            "1/2 [==============>...............] - ETA: 0s - loss: 0.7064 - accuracy: 0.4531\n",
            "Epoch 00024: saving model to model/keypoint_classifier\\demo2_classifier.hdf5\n",
            "2/2 [==============================] - 0s 104ms/step - loss: 0.6943 - accuracy: 0.4974 - val_loss: 0.6745 - val_accuracy: 0.5692\n",
            "Epoch 25/1000\n",
            "1/2 [==============>...............] - ETA: 0s - loss: 0.6940 - accuracy: 0.5469\n",
            "Epoch 00025: saving model to model/keypoint_classifier\\demo2_classifier.hdf5\n",
            "2/2 [==============================] - 0s 105ms/step - loss: 0.6934 - accuracy: 0.5285 - val_loss: 0.6746 - val_accuracy: 0.5692\n",
            "Epoch 26/1000\n",
            "1/2 [==============>...............] - ETA: 0s - loss: 0.6867 - accuracy: 0.6016\n",
            "Epoch 00026: saving model to model/keypoint_classifier\\demo2_classifier.hdf5\n",
            "2/2 [==============================] - 0s 113ms/step - loss: 0.6819 - accuracy: 0.5959 - val_loss: 0.6746 - val_accuracy: 0.5692\n",
            "Epoch 00026: early stopping\n"
          ]
        },
        {
          "data": {
            "text/plain": [
              "<keras.callbacks.History at 0x19e6f6946d0>"
            ]
          },
          "execution_count": 28,
          "metadata": {},
          "output_type": "execute_result"
        }
      ],
      "source": [
        "model.fit(\n",
        "    X_train,\n",
        "    y_train,\n",
        "    epochs=1000,\n",
        "    batch_size=128,\n",
        "    validation_data=(X_test, y_test),\n",
        "    callbacks=[cp_callback, es_callback]\n",
        ")"
      ]
    },
    {
      "cell_type": "code",
      "execution_count": 29,
      "metadata": {
        "colab": {
          "base_uri": "https://localhost:8080/"
        },
        "id": "pxvb2Y299hE3",
        "outputId": "59eb3185-2e37-4b9e-bc9d-ab1b8ac29b7f"
      },
      "outputs": [
        {
          "name": "stdout",
          "output_type": "stream",
          "text": [
            "1/1 [==============================] - 0s 43ms/step - loss: 0.6746 - accuracy: 0.5692\n"
          ]
        }
      ],
      "source": [
        "# Model evaluation\n",
        "val_loss, val_acc = model.evaluate(X_test, y_test, batch_size=128)"
      ]
    },
    {
      "cell_type": "code",
      "execution_count": 30,
      "metadata": {
        "id": "RBkmDeUW9hE4"
      },
      "outputs": [],
      "source": [
        "# Loading the saved model\n",
        "model = tf.keras.models.load_model(model_save_path)"
      ]
    },
    {
      "cell_type": "code",
      "execution_count": 31,
      "metadata": {
        "colab": {
          "base_uri": "https://localhost:8080/"
        },
        "id": "tFz9Tb0I9hE4",
        "outputId": "1c3b3528-54ae-4ee2-ab04-77429211cbef"
      },
      "outputs": [
        {
          "name": "stdout",
          "output_type": "stream",
          "text": [
            "[0.4728031  0.52719694]\n",
            "1\n"
          ]
        }
      ],
      "source": [
        "# Inference test\n",
        "predict_result = model.predict(np.array([X_test[0]]))\n",
        "print(np.squeeze(predict_result))\n",
        "print(np.argmax(np.squeeze(predict_result)))"
      ]
    },
    {
      "cell_type": "markdown",
      "metadata": {
        "id": "S3U4yNWx9hE4"
      },
      "source": [
        "# Confusion matrix"
      ]
    },
    {
      "cell_type": "code",
      "execution_count": null,
      "metadata": {},
      "outputs": [],
      "source": []
    },
    {
      "cell_type": "code",
      "execution_count": 32,
      "metadata": {
        "colab": {
          "base_uri": "https://localhost:8080/",
          "height": 582
        },
        "id": "AP1V6SCk9hE5",
        "outputId": "08e41a80-7a4a-4619-8125-ecc371368d19"
      },
      "outputs": [
        {
          "data": {
            "image/png": "[encoded data removed]",
            "text/plain": [
              "<Figure size 504x432 with 2 Axes>"
            ]
          },
          "metadata": {
            "needs_background": "light"
          },
          "output_type": "display_data"
        },
        {
          "name": "stdout",
          "output_type": "stream",
          "text": [
            "Classification Report\n",
            "              precision    recall  f1-score   support\n",
            "\n",
            "           0       1.00      0.18      0.30        34\n",
            "           1       0.53      1.00      0.69        31\n",
            "\n",
            "    accuracy                           0.57        65\n",
            "   macro avg       0.76      0.59      0.49        65\n",
            "weighted avg       0.77      0.57      0.49        65\n",
            "\n"
          ]
        }
      ],
      "source": [
        "import pandas as pd\n",
        "import seaborn as sns\n",
        "import matplotlib.pyplot as plt\n",
        "from sklearn.metrics import confusion_matrix, classification_report\n",
        "\n",
        "def print_confusion_matrix(y_true, y_pred, report=True):\n",
        "    labels = sorted(list(set(y_true)))\n",
        "    cmx_data = confusion_matrix(y_true, y_pred, labels=labels)\n",
        "    \n",
        "    df_cmx = pd.DataFrame(cmx_data, index=labels, columns=labels)\n",
        " \n",
        "    fig, ax = plt.subplots(figsize=(7, 6))\n",
        "    sns.heatmap(df_cmx, annot=True, fmt='g' ,square=False)\n",
        "    ax.set_ylim(len(set(y_true)), 0)\n",
        "    plt.show()\n",
        "    \n",
        "    if report:\n",
        "        print('Classification Report')\n",
        "        print(classification_report(y_test, y_pred))\n",
        "\n",
        "Y_pred = model.predict(X_test)\n",
        "y_pred = np.argmax(Y_pred, axis=1)\n",
        "\n",
        "print_confusion_matrix(y_test, y_pred)"
      ]
    },
    {
      "cell_type": "markdown",
      "metadata": {
        "id": "FNP6aqzc9hE5"
      },
      "source": [
        "# Convert to model for Tensorflow-Lite"
      ]
    },
    {
      "cell_type": "code",
      "execution_count": 33,
      "metadata": {
        "id": "ODjnYyld9hE6"
      },
      "outputs": [],
      "source": [
        "# Save as a model dedicated to inference\n",
        "model.save(model_save_path, include_optimizer=False)"
      ]
    },
    {
      "cell_type": "code",
      "execution_count": 34,
      "metadata": {
        "colab": {
          "base_uri": "https://localhost:8080/"
        },
        "id": "zRfuK8Y59hE6",
        "outputId": "a4ca585c-b5d5-4244-8291-8674063209bb"
      },
      "outputs": [
        {
          "name": "stdout",
          "output_type": "stream",
          "text": [
            "INFO:tensorflow:Assets written to: C:\\Users\\88697\\AppData\\Local\\Temp\\tmpc4jjnijp\\assets\n"
          ]
        },
        {
          "name": "stderr",
          "output_type": "stream",
          "text": [
            "WARNING:absl:Buffer deduplication procedure will be skipped when flatbuffer library is not properly loaded\n"
          ]
        },
        {
          "data": {
            "text/plain": [
              "6336"
            ]
          },
          "execution_count": 34,
          "metadata": {},
          "output_type": "execute_result"
        }
      ],
      "source": [
        "# Transform model (quantization)\n",
        "\n",
        "converter = tf.lite.TFLiteConverter.from_keras_model(model)\n",
        "converter.optimizations = [tf.lite.Optimize.DEFAULT]\n",
        "tflite_quantized_model = converter.convert()\n",
        "\n",
        "open(tflite_save_path, 'wb').write(tflite_quantized_model)"
      ]
    },
    {
      "cell_type": "markdown",
      "metadata": {
        "id": "CHBPBXdx9hE6"
      },
      "source": [
        "# Inference test"
      ]
    },
    {
      "cell_type": "code",
      "execution_count": 35,
      "metadata": {
        "id": "mGAzLocO9hE7"
      },
      "outputs": [],
      "source": [
        "interpreter = tf.lite.Interpreter(model_path=tflite_save_path)\n",
        "interpreter.allocate_tensors()"
      ]
    },
    {
      "cell_type": "code",
      "execution_count": 36,
      "metadata": {
        "id": "oQuDK8YS9hE7"
      },
      "outputs": [],
      "source": [
        "# Get I / O tensor\n",
        "input_details = interpreter.get_input_details()\n",
        "output_details = interpreter.get_output_details()"
      ]
    },
    {
      "cell_type": "code",
      "execution_count": 37,
      "metadata": {
        "id": "2_ixAf_l9hE7"
      },
      "outputs": [],
      "source": [
        "interpreter.set_tensor(input_details[0]['index'], np.array([X_test[0]]))"
      ]
    },
    {
      "cell_type": "code",
      "execution_count": 38,
      "metadata": {
        "colab": {
          "base_uri": "https://localhost:8080/"
        },
        "id": "s4FoAnuc9hE7",
        "outputId": "91f18257-8d8b-4ef3-c558-e9b5f94fabbf",
        "scrolled": true
      },
      "outputs": [
        {
          "name": "stdout",
          "output_type": "stream",
          "text": [
            "Wall time: 951 µs\n"
          ]
        }
      ],
      "source": [
        "%%time\n",
        "# Inference implementation\n",
        "interpreter.invoke()\n",
        "tflite_results = interpreter.get_tensor(output_details[0]['index'])"
      ]
    },
    {
      "cell_type": "code",
      "execution_count": 39,
      "metadata": {
        "colab": {
          "base_uri": "https://localhost:8080/"
        },
        "id": "vONjp19J9hE8",
        "outputId": "77205e24-fd00-42c4-f7b6-e06e527c2cba"
      },
      "outputs": [
        {
          "name": "stdout",
          "output_type": "stream",
          "text": [
            "[0.4728031  0.52719694]\n",
            "1\n"
          ]
        }
      ],
      "source": [
        "print(np.squeeze(tflite_results))\n",
        "print(np.argmax(np.squeeze(tflite_results)))"
      ]
    }
  ],
  "metadata": {
    "accelerator": "GPU",
    "colab": {
      "collapsed_sections": [],
      "name": "keypoint_classification_EN.ipynb",
      "provenance": [],
      "toc_visible": true
    },
    "kernelspec": {
      "display_name": "Python 3",
      "language": "python",
      "name": "python3"
    },
    "language_info": {
      "codemirror_mode": {
        "name": "ipython",
        "version": 3
      },
      "file_extension": ".py",
      "mimetype": "text/x-python",
      "name": "python",
      "nbconvert_exporter": "python",
      "pygments_lexer": "ipython3",
      "version": "3.9.5"
    }
  },
  "nbformat": 4,
  "nbformat_minor": 0
}
